{
 "cells": [
  {
   "cell_type": "markdown",
   "metadata": {},
   "source": [
    "### Heuristic Models\n",
    "Look at the Seattle weather in the **data** folder. Come up with a heuristic model to predict if it will rain today. Keep in mind this is a time series, which means that you only know what happened historically (before a given date). One example of a heuristic model is: It will rain tomorrow if it rained more than 1 inch (>1.0 PRCP) today. Describe your heuristic model in the next cell."
   ]
  },
  {
   "cell_type": "markdown",
   "metadata": {},
   "source": [
    "**your model here**  \n",
    "\n",
    "Examples:  \n",
    "\n",
    "If rained yesterday it will rain today.  \n",
    "If it rained yesterday or the day before it will rain today."
   ]
  },
  {
   "cell_type": "code",
   "execution_count": 1,
   "metadata": {},
   "outputs": [],
   "source": [
    "#here is an example of how to build and populate a hurestic model\n",
    "\n",
    "import pandas as pd\n",
    "import numpy as np\n",
    "import matplotlib.pyplot as plt\n",
    "import seaborn as sns\n",
    "%matplotlib inline\n",
    "import time\n",
    "import datetime\n",
    "from sklearn.metrics import mean_squared_error, mean_absolute_error, accuracy_score, recall_score, precision_score\n"
   ]
  },
  {
   "cell_type": "code",
   "execution_count": 2,
   "metadata": {},
   "outputs": [],
   "source": [
    "# Load Data\n",
    "df = pd.read_csv('seattle_weather_1948-2017.csv')"
   ]
  },
  {
   "cell_type": "code",
   "execution_count": 3,
   "metadata": {},
   "outputs": [
    {
     "data": {
      "text/html": [
       "<div>\n",
       "<style scoped>\n",
       "    .dataframe tbody tr th:only-of-type {\n",
       "        vertical-align: middle;\n",
       "    }\n",
       "\n",
       "    .dataframe tbody tr th {\n",
       "        vertical-align: top;\n",
       "    }\n",
       "\n",
       "    .dataframe thead th {\n",
       "        text-align: right;\n",
       "    }\n",
       "</style>\n",
       "<table border=\"1\" class=\"dataframe\">\n",
       "  <thead>\n",
       "    <tr style=\"text-align: right;\">\n",
       "      <th></th>\n",
       "      <th>DATE</th>\n",
       "      <th>PRCP</th>\n",
       "      <th>TMAX</th>\n",
       "      <th>TMIN</th>\n",
       "      <th>RAIN</th>\n",
       "    </tr>\n",
       "  </thead>\n",
       "  <tbody>\n",
       "    <tr>\n",
       "      <th>0</th>\n",
       "      <td>1948-01-01</td>\n",
       "      <td>0.47</td>\n",
       "      <td>51</td>\n",
       "      <td>42</td>\n",
       "      <td>True</td>\n",
       "    </tr>\n",
       "    <tr>\n",
       "      <th>1</th>\n",
       "      <td>1948-01-02</td>\n",
       "      <td>0.59</td>\n",
       "      <td>45</td>\n",
       "      <td>36</td>\n",
       "      <td>True</td>\n",
       "    </tr>\n",
       "    <tr>\n",
       "      <th>2</th>\n",
       "      <td>1948-01-03</td>\n",
       "      <td>0.42</td>\n",
       "      <td>45</td>\n",
       "      <td>35</td>\n",
       "      <td>True</td>\n",
       "    </tr>\n",
       "    <tr>\n",
       "      <th>3</th>\n",
       "      <td>1948-01-04</td>\n",
       "      <td>0.31</td>\n",
       "      <td>45</td>\n",
       "      <td>34</td>\n",
       "      <td>True</td>\n",
       "    </tr>\n",
       "    <tr>\n",
       "      <th>4</th>\n",
       "      <td>1948-01-05</td>\n",
       "      <td>0.17</td>\n",
       "      <td>45</td>\n",
       "      <td>32</td>\n",
       "      <td>True</td>\n",
       "    </tr>\n",
       "  </tbody>\n",
       "</table>\n",
       "</div>"
      ],
      "text/plain": [
       "         DATE  PRCP  TMAX  TMIN  RAIN\n",
       "0  1948-01-01  0.47    51    42  True\n",
       "1  1948-01-02  0.59    45    36  True\n",
       "2  1948-01-03  0.42    45    35  True\n",
       "3  1948-01-04  0.31    45    34  True\n",
       "4  1948-01-05  0.17    45    32  True"
      ]
     },
     "execution_count": 3,
     "metadata": {},
     "output_type": "execute_result"
    }
   ],
   "source": [
    "df.head()"
   ]
  },
  {
   "cell_type": "code",
   "execution_count": 4,
   "metadata": {},
   "outputs": [
    {
     "name": "stdout",
     "output_type": "stream",
     "text": [
      "<class 'pandas.core.frame.DataFrame'>\n",
      "RangeIndex: 25551 entries, 0 to 25550\n",
      "Data columns (total 5 columns):\n",
      " #   Column  Non-Null Count  Dtype  \n",
      "---  ------  --------------  -----  \n",
      " 0   DATE    25551 non-null  object \n",
      " 1   PRCP    25548 non-null  float64\n",
      " 2   TMAX    25551 non-null  int64  \n",
      " 3   TMIN    25551 non-null  int64  \n",
      " 4   RAIN    25548 non-null  object \n",
      "dtypes: float64(1), int64(2), object(2)\n",
      "memory usage: 998.2+ KB\n"
     ]
    }
   ],
   "source": [
    "df.info()"
   ]
  },
  {
   "cell_type": "code",
   "execution_count": 5,
   "metadata": {},
   "outputs": [
    {
     "data": {
      "text/html": [
       "<div>\n",
       "<style scoped>\n",
       "    .dataframe tbody tr th:only-of-type {\n",
       "        vertical-align: middle;\n",
       "    }\n",
       "\n",
       "    .dataframe tbody tr th {\n",
       "        vertical-align: top;\n",
       "    }\n",
       "\n",
       "    .dataframe thead th {\n",
       "        text-align: right;\n",
       "    }\n",
       "</style>\n",
       "<table border=\"1\" class=\"dataframe\">\n",
       "  <thead>\n",
       "    <tr style=\"text-align: right;\">\n",
       "      <th></th>\n",
       "      <th>PRCP</th>\n",
       "      <th>TMAX</th>\n",
       "      <th>TMIN</th>\n",
       "    </tr>\n",
       "  </thead>\n",
       "  <tbody>\n",
       "    <tr>\n",
       "      <th>count</th>\n",
       "      <td>25548.000000</td>\n",
       "      <td>25551.000000</td>\n",
       "      <td>25551.000000</td>\n",
       "    </tr>\n",
       "    <tr>\n",
       "      <th>mean</th>\n",
       "      <td>0.106222</td>\n",
       "      <td>59.544206</td>\n",
       "      <td>44.514226</td>\n",
       "    </tr>\n",
       "    <tr>\n",
       "      <th>std</th>\n",
       "      <td>0.239031</td>\n",
       "      <td>12.772984</td>\n",
       "      <td>8.892836</td>\n",
       "    </tr>\n",
       "    <tr>\n",
       "      <th>min</th>\n",
       "      <td>0.000000</td>\n",
       "      <td>4.000000</td>\n",
       "      <td>0.000000</td>\n",
       "    </tr>\n",
       "    <tr>\n",
       "      <th>25%</th>\n",
       "      <td>0.000000</td>\n",
       "      <td>50.000000</td>\n",
       "      <td>38.000000</td>\n",
       "    </tr>\n",
       "    <tr>\n",
       "      <th>50%</th>\n",
       "      <td>0.000000</td>\n",
       "      <td>58.000000</td>\n",
       "      <td>45.000000</td>\n",
       "    </tr>\n",
       "    <tr>\n",
       "      <th>75%</th>\n",
       "      <td>0.100000</td>\n",
       "      <td>69.000000</td>\n",
       "      <td>52.000000</td>\n",
       "    </tr>\n",
       "    <tr>\n",
       "      <th>max</th>\n",
       "      <td>5.020000</td>\n",
       "      <td>103.000000</td>\n",
       "      <td>71.000000</td>\n",
       "    </tr>\n",
       "  </tbody>\n",
       "</table>\n",
       "</div>"
      ],
      "text/plain": [
       "               PRCP          TMAX          TMIN\n",
       "count  25548.000000  25551.000000  25551.000000\n",
       "mean       0.106222     59.544206     44.514226\n",
       "std        0.239031     12.772984      8.892836\n",
       "min        0.000000      4.000000      0.000000\n",
       "25%        0.000000     50.000000     38.000000\n",
       "50%        0.000000     58.000000     45.000000\n",
       "75%        0.100000     69.000000     52.000000\n",
       "max        5.020000    103.000000     71.000000"
      ]
     },
     "execution_count": 5,
     "metadata": {},
     "output_type": "execute_result"
    }
   ],
   "source": [
    "df.describe()"
   ]
  },
  {
   "cell_type": "code",
   "execution_count": 6,
   "metadata": {},
   "outputs": [
    {
     "data": {
      "text/html": [
       "<div>\n",
       "<style scoped>\n",
       "    .dataframe tbody tr th:only-of-type {\n",
       "        vertical-align: middle;\n",
       "    }\n",
       "\n",
       "    .dataframe tbody tr th {\n",
       "        vertical-align: top;\n",
       "    }\n",
       "\n",
       "    .dataframe thead th {\n",
       "        text-align: right;\n",
       "    }\n",
       "</style>\n",
       "<table border=\"1\" class=\"dataframe\">\n",
       "  <thead>\n",
       "    <tr style=\"text-align: right;\">\n",
       "      <th></th>\n",
       "      <th>DATE</th>\n",
       "      <th>RAIN</th>\n",
       "    </tr>\n",
       "  </thead>\n",
       "  <tbody>\n",
       "    <tr>\n",
       "      <th>count</th>\n",
       "      <td>25551</td>\n",
       "      <td>25548</td>\n",
       "    </tr>\n",
       "    <tr>\n",
       "      <th>unique</th>\n",
       "      <td>25551</td>\n",
       "      <td>2</td>\n",
       "    </tr>\n",
       "    <tr>\n",
       "      <th>top</th>\n",
       "      <td>1948-01-01</td>\n",
       "      <td>False</td>\n",
       "    </tr>\n",
       "    <tr>\n",
       "      <th>freq</th>\n",
       "      <td>1</td>\n",
       "      <td>14648</td>\n",
       "    </tr>\n",
       "  </tbody>\n",
       "</table>\n",
       "</div>"
      ],
      "text/plain": [
       "              DATE   RAIN\n",
       "count        25551  25548\n",
       "unique       25551      2\n",
       "top     1948-01-01  False\n",
       "freq             1  14648"
      ]
     },
     "execution_count": 6,
     "metadata": {},
     "output_type": "execute_result"
    }
   ],
   "source": [
    "df.describe(exclude='number')"
   ]
  },
  {
   "cell_type": "code",
   "execution_count": 7,
   "metadata": {},
   "outputs": [
    {
     "data": {
      "text/html": [
       "<div>\n",
       "<style scoped>\n",
       "    .dataframe tbody tr th:only-of-type {\n",
       "        vertical-align: middle;\n",
       "    }\n",
       "\n",
       "    .dataframe tbody tr th {\n",
       "        vertical-align: top;\n",
       "    }\n",
       "\n",
       "    .dataframe thead th {\n",
       "        text-align: right;\n",
       "    }\n",
       "</style>\n",
       "<table border=\"1\" class=\"dataframe\">\n",
       "  <thead>\n",
       "    <tr style=\"text-align: right;\">\n",
       "      <th></th>\n",
       "      <th>DATE</th>\n",
       "      <th>PRCP</th>\n",
       "      <th>TMAX</th>\n",
       "      <th>TMIN</th>\n",
       "      <th>RAIN</th>\n",
       "    </tr>\n",
       "  </thead>\n",
       "  <tbody>\n",
       "    <tr>\n",
       "      <th>18415</th>\n",
       "      <td>1998-06-02</td>\n",
       "      <td>NaN</td>\n",
       "      <td>72</td>\n",
       "      <td>52</td>\n",
       "      <td>NaN</td>\n",
       "    </tr>\n",
       "    <tr>\n",
       "      <th>18416</th>\n",
       "      <td>1998-06-03</td>\n",
       "      <td>NaN</td>\n",
       "      <td>66</td>\n",
       "      <td>51</td>\n",
       "      <td>NaN</td>\n",
       "    </tr>\n",
       "    <tr>\n",
       "      <th>21067</th>\n",
       "      <td>2005-09-05</td>\n",
       "      <td>NaN</td>\n",
       "      <td>70</td>\n",
       "      <td>52</td>\n",
       "      <td>NaN</td>\n",
       "    </tr>\n",
       "  </tbody>\n",
       "</table>\n",
       "</div>"
      ],
      "text/plain": [
       "             DATE  PRCP  TMAX  TMIN RAIN\n",
       "18415  1998-06-02   NaN    72    52  NaN\n",
       "18416  1998-06-03   NaN    66    51  NaN\n",
       "21067  2005-09-05   NaN    70    52  NaN"
      ]
     },
     "execution_count": 7,
     "metadata": {},
     "output_type": "execute_result"
    }
   ],
   "source": [
    "# Find nulls in PRCP column\n",
    "df[pd.isnull(df['PRCP'])]"
   ]
  },
  {
   "cell_type": "code",
   "execution_count": 8,
   "metadata": {},
   "outputs": [
    {
     "data": {
      "text/html": [
       "<div>\n",
       "<style scoped>\n",
       "    .dataframe tbody tr th:only-of-type {\n",
       "        vertical-align: middle;\n",
       "    }\n",
       "\n",
       "    .dataframe tbody tr th {\n",
       "        vertical-align: top;\n",
       "    }\n",
       "\n",
       "    .dataframe thead th {\n",
       "        text-align: right;\n",
       "    }\n",
       "</style>\n",
       "<table border=\"1\" class=\"dataframe\">\n",
       "  <thead>\n",
       "    <tr style=\"text-align: right;\">\n",
       "      <th></th>\n",
       "      <th>DATE</th>\n",
       "      <th>PRCP</th>\n",
       "      <th>TMAX</th>\n",
       "      <th>TMIN</th>\n",
       "      <th>RAIN</th>\n",
       "    </tr>\n",
       "  </thead>\n",
       "  <tbody>\n",
       "    <tr>\n",
       "      <th>18415</th>\n",
       "      <td>1998-06-02</td>\n",
       "      <td>NaN</td>\n",
       "      <td>72</td>\n",
       "      <td>52</td>\n",
       "      <td>NaN</td>\n",
       "    </tr>\n",
       "    <tr>\n",
       "      <th>18416</th>\n",
       "      <td>1998-06-03</td>\n",
       "      <td>NaN</td>\n",
       "      <td>66</td>\n",
       "      <td>51</td>\n",
       "      <td>NaN</td>\n",
       "    </tr>\n",
       "    <tr>\n",
       "      <th>21067</th>\n",
       "      <td>2005-09-05</td>\n",
       "      <td>NaN</td>\n",
       "      <td>70</td>\n",
       "      <td>52</td>\n",
       "      <td>NaN</td>\n",
       "    </tr>\n",
       "  </tbody>\n",
       "</table>\n",
       "</div>"
      ],
      "text/plain": [
       "             DATE  PRCP  TMAX  TMIN RAIN\n",
       "18415  1998-06-02   NaN    72    52  NaN\n",
       "18416  1998-06-03   NaN    66    51  NaN\n",
       "21067  2005-09-05   NaN    70    52  NaN"
      ]
     },
     "execution_count": 8,
     "metadata": {},
     "output_type": "execute_result"
    }
   ],
   "source": [
    "# Find nulls in RAIN column\n",
    "df[pd.isnull(df['RAIN'])]"
   ]
  },
  {
   "cell_type": "code",
   "execution_count": 9,
   "metadata": {},
   "outputs": [
    {
     "data": {
      "text/plain": [
       "<AxesSubplot:xlabel='RAIN', ylabel='count'>"
      ]
     },
     "execution_count": 9,
     "metadata": {},
     "output_type": "execute_result"
    },
    {
     "data": {
      "image/png": "[encoded data removed]",
      "text/plain": [
       "<Figure size 432x288 with 1 Axes>"
      ]
     },
     "metadata": {
      "needs_background": "light"
     },
     "output_type": "display_data"
    }
   ],
   "source": [
    "# Look at our target class distribution\n",
    "sns.countplot(data=df, x='RAIN')"
   ]
  },
  {
   "cell_type": "code",
   "execution_count": 10,
   "metadata": {},
   "outputs": [
    {
     "data": {
      "text/plain": [
       "0.10622162204477956"
      ]
     },
     "execution_count": 10,
     "metadata": {},
     "output_type": "execute_result"
    }
   ],
   "source": [
    "df['PRCP'].mean()"
   ]
  },
  {
   "cell_type": "markdown",
   "metadata": {},
   "source": [
    "### Create functions to handle NaN values"
   ]
  },
  {
   "cell_type": "code",
   "execution_count": 11,
   "metadata": {},
   "outputs": [],
   "source": [
    "# We are inserting false since it is the most frequent possibility \n",
    "\n",
    "def RAIN_INSERTION(cols):\n",
    "    \"\"\"\n",
    "    Insert False where NaN values are present\n",
    "    \"\"\"\n",
    "    # Note: the input is a dataframe and we are selecting the first column\n",
    "    RAIN=cols[0]\n",
    "    if pd.isnull(RAIN):\n",
    "        return False\n",
    "    else:\n",
    "        return RAIN"
   ]
  },
  {
   "cell_type": "code",
   "execution_count": 12,
   "metadata": {},
   "outputs": [],
   "source": [
    "# We are replacing null values in the precipitation with the mean value\n",
    "\n",
    "def PRCP_INSERTION(col):\n",
    "    \"\"\"\n",
    "    Insert the Mean of PRCP where NaN values are present\n",
    "    \"\"\"\n",
    "    # Note: the input is a dataframe and we are selecting the first column\n",
    "    PRCP=col[0]\n",
    "    if pd.isnull(PRCP):\n",
    "        return df['PRCP'].mean()\n",
    "    else:\n",
    "        return PRCP"
   ]
  },
  {
   "cell_type": "code",
   "execution_count": 13,
   "metadata": {},
   "outputs": [
    {
     "data": {
      "text/html": [
       "<div>\n",
       "<style scoped>\n",
       "    .dataframe tbody tr th:only-of-type {\n",
       "        vertical-align: middle;\n",
       "    }\n",
       "\n",
       "    .dataframe tbody tr th {\n",
       "        vertical-align: top;\n",
       "    }\n",
       "\n",
       "    .dataframe thead th {\n",
       "        text-align: right;\n",
       "    }\n",
       "</style>\n",
       "<table border=\"1\" class=\"dataframe\">\n",
       "  <thead>\n",
       "    <tr style=\"text-align: right;\">\n",
       "      <th></th>\n",
       "      <th>RAIN</th>\n",
       "    </tr>\n",
       "  </thead>\n",
       "  <tbody>\n",
       "    <tr>\n",
       "      <th>0</th>\n",
       "      <td>True</td>\n",
       "    </tr>\n",
       "    <tr>\n",
       "      <th>1</th>\n",
       "      <td>True</td>\n",
       "    </tr>\n",
       "    <tr>\n",
       "      <th>2</th>\n",
       "      <td>True</td>\n",
       "    </tr>\n",
       "    <tr>\n",
       "      <th>3</th>\n",
       "      <td>True</td>\n",
       "    </tr>\n",
       "    <tr>\n",
       "      <th>4</th>\n",
       "      <td>True</td>\n",
       "    </tr>\n",
       "    <tr>\n",
       "      <th>...</th>\n",
       "      <td>...</td>\n",
       "    </tr>\n",
       "    <tr>\n",
       "      <th>25546</th>\n",
       "      <td>False</td>\n",
       "    </tr>\n",
       "    <tr>\n",
       "      <th>25547</th>\n",
       "      <td>False</td>\n",
       "    </tr>\n",
       "    <tr>\n",
       "      <th>25548</th>\n",
       "      <td>False</td>\n",
       "    </tr>\n",
       "    <tr>\n",
       "      <th>25549</th>\n",
       "      <td>False</td>\n",
       "    </tr>\n",
       "    <tr>\n",
       "      <th>25550</th>\n",
       "      <td>False</td>\n",
       "    </tr>\n",
       "  </tbody>\n",
       "</table>\n",
       "<p>25551 rows × 1 columns</p>\n",
       "</div>"
      ],
      "text/plain": [
       "        RAIN\n",
       "0       True\n",
       "1       True\n",
       "2       True\n",
       "3       True\n",
       "4       True\n",
       "...      ...\n",
       "25546  False\n",
       "25547  False\n",
       "25548  False\n",
       "25549  False\n",
       "25550  False\n",
       "\n",
       "[25551 rows x 1 columns]"
      ]
     },
     "execution_count": 13,
     "metadata": {},
     "output_type": "execute_result"
    }
   ],
   "source": [
    "df[['RAIN']]"
   ]
  },
  {
   "cell_type": "code",
   "execution_count": 14,
   "metadata": {},
   "outputs": [],
   "source": [
    "# Apply the functions --> handling missing values \n",
    "\n",
    "df['RAIN']=df[['RAIN']].apply(RAIN_INSERTION,axis=1)"
   ]
  },
  {
   "cell_type": "code",
   "execution_count": 15,
   "metadata": {},
   "outputs": [],
   "source": [
    "# Apply the functions --> handling missing values \n",
    "\n",
    "df['PRCP']=df[['PRCP']].apply(PRCP_INSERTION,axis=1)"
   ]
  },
  {
   "cell_type": "code",
   "execution_count": 16,
   "metadata": {},
   "outputs": [
    {
     "data": {
      "text/html": [
       "<div>\n",
       "<style scoped>\n",
       "    .dataframe tbody tr th:only-of-type {\n",
       "        vertical-align: middle;\n",
       "    }\n",
       "\n",
       "    .dataframe tbody tr th {\n",
       "        vertical-align: top;\n",
       "    }\n",
       "\n",
       "    .dataframe thead th {\n",
       "        text-align: right;\n",
       "    }\n",
       "</style>\n",
       "<table border=\"1\" class=\"dataframe\">\n",
       "  <thead>\n",
       "    <tr style=\"text-align: right;\">\n",
       "      <th></th>\n",
       "      <th>DATE</th>\n",
       "      <th>PRCP</th>\n",
       "      <th>TMAX</th>\n",
       "      <th>TMIN</th>\n",
       "      <th>RAIN</th>\n",
       "    </tr>\n",
       "  </thead>\n",
       "  <tbody>\n",
       "  </tbody>\n",
       "</table>\n",
       "</div>"
      ],
      "text/plain": [
       "Empty DataFrame\n",
       "Columns: [DATE, PRCP, TMAX, TMIN, RAIN]\n",
       "Index: []"
      ]
     },
     "execution_count": 16,
     "metadata": {},
     "output_type": "execute_result"
    }
   ],
   "source": [
    "# Check for NaN values\n",
    "\n",
    "df[pd.isnull(df['RAIN'])]"
   ]
  },
  {
   "cell_type": "code",
   "execution_count": 17,
   "metadata": {},
   "outputs": [
    {
     "data": {
      "text/html": [
       "<div>\n",
       "<style scoped>\n",
       "    .dataframe tbody tr th:only-of-type {\n",
       "        vertical-align: middle;\n",
       "    }\n",
       "\n",
       "    .dataframe tbody tr th {\n",
       "        vertical-align: top;\n",
       "    }\n",
       "\n",
       "    .dataframe thead th {\n",
       "        text-align: right;\n",
       "    }\n",
       "</style>\n",
       "<table border=\"1\" class=\"dataframe\">\n",
       "  <thead>\n",
       "    <tr style=\"text-align: right;\">\n",
       "      <th></th>\n",
       "      <th>DATE</th>\n",
       "      <th>PRCP</th>\n",
       "      <th>TMAX</th>\n",
       "      <th>TMIN</th>\n",
       "      <th>RAIN</th>\n",
       "    </tr>\n",
       "  </thead>\n",
       "  <tbody>\n",
       "  </tbody>\n",
       "</table>\n",
       "</div>"
      ],
      "text/plain": [
       "Empty DataFrame\n",
       "Columns: [DATE, PRCP, TMAX, TMIN, RAIN]\n",
       "Index: []"
      ]
     },
     "execution_count": 17,
     "metadata": {},
     "output_type": "execute_result"
    }
   ],
   "source": [
    "df[pd.isnull(df['PRCP'])]"
   ]
  },
  {
   "cell_type": "code",
   "execution_count": 18,
   "metadata": {},
   "outputs": [
    {
     "data": {
      "text/plain": [
       "Text(0.5, 1.0, 'Precipitation Vs Minimum Temperature')"
      ]
     },
     "execution_count": 18,
     "metadata": {},
     "output_type": "execute_result"
    },
    {
     "data": {
      "image/png": "[encoded data removed]",
      "text/plain": [
       "<Figure size 432x288 with 1 Axes>"
      ]
     },
     "metadata": {
      "needs_background": "light"
     },
     "output_type": "display_data"
    }
   ],
   "source": [
    "plt.scatter(x='TMIN',y='PRCP',data=df)\n",
    "plt.xlabel('Minimum Temperature')\n",
    "plt.ylabel('PRCP')\n",
    "plt.title('Precipitation Vs Minimum Temperature')"
   ]
  },
  {
   "cell_type": "code",
   "execution_count": 19,
   "metadata": {},
   "outputs": [
    {
     "data": {
      "text/plain": [
       "Text(0.5, 1.0, 'Precipitation Vs Maximum Temperature')"
      ]
     },
     "execution_count": 19,
     "metadata": {},
     "output_type": "execute_result"
    },
    {
     "data": {
      "image/png": "[encoded data removed]",
      "text/plain": [
       "<Figure size 504x504 with 1 Axes>"
      ]
     },
     "metadata": {
      "needs_background": "light"
     },
     "output_type": "display_data"
    }
   ],
   "source": [
    "plt.figure(figsize=(7,7))\n",
    "plt.scatter(x='TMAX',y='PRCP',data=df)\n",
    "plt.xlabel('Maximum Temperature')\n",
    "plt.ylabel('PRCP')\n",
    "plt.title('Precipitation Vs Maximum Temperature')\n"
   ]
  },
  {
   "cell_type": "code",
   "execution_count": 20,
   "metadata": {
    "scrolled": true
   },
   "outputs": [
    {
     "data": {
      "text/plain": [
       "<AxesSubplot:xlabel='TMIN', ylabel='Density'>"
      ]
     },
     "execution_count": 20,
     "metadata": {},
     "output_type": "execute_result"
    },
    {
     "data": {
      "image/png": "[encoded data removed]",
      "text/plain": [
       "<Figure size 432x288 with 1 Axes>"
      ]
     },
     "metadata": {
      "needs_background": "light"
     },
     "output_type": "display_data"
    }
   ],
   "source": [
    "sns.kdeplot(df['TMIN'])"
   ]
  },
  {
   "cell_type": "code",
   "execution_count": 21,
   "metadata": {},
   "outputs": [
    {
     "data": {
      "text/plain": [
       "<AxesSubplot:xlabel='TMAX', ylabel='Density'>"
      ]
     },
     "execution_count": 21,
     "metadata": {},
     "output_type": "execute_result"
    },
    {
     "data": {
      "image/png": "[encoded data removed]",
      "text/plain": [
       "<Figure size 432x288 with 1 Axes>"
      ]
     },
     "metadata": {
      "needs_background": "light"
     },
     "output_type": "display_data"
    }
   ],
   "source": [
    "sns.kdeplot(df['TMAX'])"
   ]
  },
  {
   "cell_type": "code",
   "execution_count": 22,
   "metadata": {},
   "outputs": [],
   "source": [
    "# Note: we need to convert the type to an integer to use the pairplot \n",
    "# Otherwise it will give us an error\n",
    "\n",
    "df['RAIN'] = df['RAIN'].astype(int)"
   ]
  },
  {
   "cell_type": "code",
   "execution_count": 23,
   "metadata": {},
   "outputs": [
    {
     "data": {
      "text/plain": [
       "<AxesSubplot:>"
      ]
     },
     "execution_count": 23,
     "metadata": {},
     "output_type": "execute_result"
    },
    {
     "data": {
      "image/png": "[encoded data removed]",
      "text/plain": [
       "<Figure size 720x504 with 1 Axes>"
      ]
     },
     "metadata": {
      "needs_background": "light"
     },
     "output_type": "display_data"
    }
   ],
   "source": [
    "plt.figure(figsize=(10,7))\n",
    "sns.boxplot(data=df)"
   ]
  },
  {
   "cell_type": "markdown",
   "metadata": {},
   "source": [
    "### Coding a Heuristic by hand and evaluating\n",
    "\n",
    "- If it rained yesterday or the day before then it will rain today"
   ]
  },
  {
   "cell_type": "code",
   "execution_count": 24,
   "metadata": {},
   "outputs": [],
   "source": [
    "# Reset index and drop index column\n",
    "df = df.reset_index().drop(\"index\", axis=1)"
   ]
  },
  {
   "cell_type": "code",
   "execution_count": 59,
   "metadata": {},
   "outputs": [
    {
     "data": {
      "text/html": [
       "<div>\n",
       "<style scoped>\n",
       "    .dataframe tbody tr th:only-of-type {\n",
       "        vertical-align: middle;\n",
       "    }\n",
       "\n",
       "    .dataframe tbody tr th {\n",
       "        vertical-align: top;\n",
       "    }\n",
       "\n",
       "    .dataframe thead th {\n",
       "        text-align: right;\n",
       "    }\n",
       "</style>\n",
       "<table border=\"1\" class=\"dataframe\">\n",
       "  <thead>\n",
       "    <tr style=\"text-align: right;\">\n",
       "      <th></th>\n",
       "      <th>DATE</th>\n",
       "      <th>PRCP</th>\n",
       "      <th>TMAX</th>\n",
       "      <th>TMIN</th>\n",
       "      <th>RAIN</th>\n",
       "      <th>preds</th>\n",
       "      <th>FP</th>\n",
       "      <th>TP</th>\n",
       "      <th>FN</th>\n",
       "      <th>TN</th>\n",
       "    </tr>\n",
       "  </thead>\n",
       "  <tbody>\n",
       "    <tr>\n",
       "      <th>0</th>\n",
       "      <td>1948-01-01</td>\n",
       "      <td>0.47</td>\n",
       "      <td>51</td>\n",
       "      <td>42</td>\n",
       "      <td>1</td>\n",
       "      <td>False</td>\n",
       "      <td>0.0</td>\n",
       "      <td>0.0</td>\n",
       "      <td>1.0</td>\n",
       "      <td>0.0</td>\n",
       "    </tr>\n",
       "    <tr>\n",
       "      <th>1</th>\n",
       "      <td>1948-01-02</td>\n",
       "      <td>0.59</td>\n",
       "      <td>45</td>\n",
       "      <td>36</td>\n",
       "      <td>1</td>\n",
       "      <td>False</td>\n",
       "      <td>0.0</td>\n",
       "      <td>0.0</td>\n",
       "      <td>1.0</td>\n",
       "      <td>0.0</td>\n",
       "    </tr>\n",
       "    <tr>\n",
       "      <th>2</th>\n",
       "      <td>1948-01-03</td>\n",
       "      <td>0.42</td>\n",
       "      <td>45</td>\n",
       "      <td>35</td>\n",
       "      <td>1</td>\n",
       "      <td>True</td>\n",
       "      <td>0.0</td>\n",
       "      <td>1.0</td>\n",
       "      <td>0.0</td>\n",
       "      <td>0.0</td>\n",
       "    </tr>\n",
       "    <tr>\n",
       "      <th>3</th>\n",
       "      <td>1948-01-04</td>\n",
       "      <td>0.31</td>\n",
       "      <td>45</td>\n",
       "      <td>34</td>\n",
       "      <td>1</td>\n",
       "      <td>True</td>\n",
       "      <td>0.0</td>\n",
       "      <td>1.0</td>\n",
       "      <td>0.0</td>\n",
       "      <td>0.0</td>\n",
       "    </tr>\n",
       "    <tr>\n",
       "      <th>4</th>\n",
       "      <td>1948-01-05</td>\n",
       "      <td>0.17</td>\n",
       "      <td>45</td>\n",
       "      <td>32</td>\n",
       "      <td>1</td>\n",
       "      <td>True</td>\n",
       "      <td>0.0</td>\n",
       "      <td>1.0</td>\n",
       "      <td>0.0</td>\n",
       "      <td>0.0</td>\n",
       "    </tr>\n",
       "    <tr>\n",
       "      <th>...</th>\n",
       "      <td>...</td>\n",
       "      <td>...</td>\n",
       "      <td>...</td>\n",
       "      <td>...</td>\n",
       "      <td>...</td>\n",
       "      <td>...</td>\n",
       "      <td>...</td>\n",
       "      <td>...</td>\n",
       "      <td>...</td>\n",
       "      <td>...</td>\n",
       "    </tr>\n",
       "    <tr>\n",
       "      <th>25534</th>\n",
       "      <td>2017-11-28</td>\n",
       "      <td>0.68</td>\n",
       "      <td>47</td>\n",
       "      <td>43</td>\n",
       "      <td>1</td>\n",
       "      <td>True</td>\n",
       "      <td>0.0</td>\n",
       "      <td>1.0</td>\n",
       "      <td>0.0</td>\n",
       "      <td>0.0</td>\n",
       "    </tr>\n",
       "    <tr>\n",
       "      <th>25536</th>\n",
       "      <td>2017-11-30</td>\n",
       "      <td>0.27</td>\n",
       "      <td>46</td>\n",
       "      <td>41</td>\n",
       "      <td>1</td>\n",
       "      <td>True</td>\n",
       "      <td>0.0</td>\n",
       "      <td>1.0</td>\n",
       "      <td>0.0</td>\n",
       "      <td>0.0</td>\n",
       "    </tr>\n",
       "    <tr>\n",
       "      <th>25537</th>\n",
       "      <td>2017-12-01</td>\n",
       "      <td>0.27</td>\n",
       "      <td>48</td>\n",
       "      <td>38</td>\n",
       "      <td>1</td>\n",
       "      <td>True</td>\n",
       "      <td>0.0</td>\n",
       "      <td>1.0</td>\n",
       "      <td>0.0</td>\n",
       "      <td>0.0</td>\n",
       "    </tr>\n",
       "    <tr>\n",
       "      <th>25538</th>\n",
       "      <td>2017-12-02</td>\n",
       "      <td>0.79</td>\n",
       "      <td>44</td>\n",
       "      <td>41</td>\n",
       "      <td>1</td>\n",
       "      <td>True</td>\n",
       "      <td>0.0</td>\n",
       "      <td>1.0</td>\n",
       "      <td>0.0</td>\n",
       "      <td>0.0</td>\n",
       "    </tr>\n",
       "    <tr>\n",
       "      <th>25539</th>\n",
       "      <td>2017-12-03</td>\n",
       "      <td>0.05</td>\n",
       "      <td>46</td>\n",
       "      <td>39</td>\n",
       "      <td>1</td>\n",
       "      <td>True</td>\n",
       "      <td>0.0</td>\n",
       "      <td>1.0</td>\n",
       "      <td>0.0</td>\n",
       "      <td>0.0</td>\n",
       "    </tr>\n",
       "  </tbody>\n",
       "</table>\n",
       "<p>9970 rows × 10 columns</p>\n",
       "</div>"
      ],
      "text/plain": [
       "             DATE  PRCP  TMAX  TMIN  RAIN  preds   FP   TP   FN   TN\n",
       "0      1948-01-01  0.47    51    42     1  False  0.0  0.0  1.0  0.0\n",
       "1      1948-01-02  0.59    45    36     1  False  0.0  0.0  1.0  0.0\n",
       "2      1948-01-03  0.42    45    35     1   True  0.0  1.0  0.0  0.0\n",
       "3      1948-01-04  0.31    45    34     1   True  0.0  1.0  0.0  0.0\n",
       "4      1948-01-05  0.17    45    32     1   True  0.0  1.0  0.0  0.0\n",
       "...           ...   ...   ...   ...   ...    ...  ...  ...  ...  ...\n",
       "25534  2017-11-28  0.68    47    43     1   True  0.0  1.0  0.0  0.0\n",
       "25536  2017-11-30  0.27    46    41     1   True  0.0  1.0  0.0  0.0\n",
       "25537  2017-12-01  0.27    48    38     1   True  0.0  1.0  0.0  0.0\n",
       "25538  2017-12-02  0.79    44    41     1   True  0.0  1.0  0.0  0.0\n",
       "25539  2017-12-03  0.05    46    39     1   True  0.0  1.0  0.0  0.0\n",
       "\n",
       "[9970 rows x 10 columns]"
      ]
     },
     "execution_count": 59,
     "metadata": {},
     "output_type": "execute_result"
    }
   ],
   "source": [
    "df.loc[df.PRCP >0.01].iloc[:, 0:]"
   ]
  },
  {
   "cell_type": "code",
   "execution_count": 57,
   "metadata": {},
   "outputs": [],
   "source": [
    "# Create function to perform our heuristic\n",
    "\n",
    "# rain --> rain\n",
    "# rain, 'unknown' --> rain \n",
    "\n",
    "def heuristic(df):\n",
    "    \n",
    "    \"\"\"\n",
    "    Simple heuristic:\n",
    "    \n",
    "    If it rained yesterday or rains today, it will rain tomorrow.\n",
    "    \n",
    "    It will rain tomorrow if it rained more than 1 inch (>1.0 PRCP) today.\n",
    "    \n",
    "    First two rows are predicted false be default\n",
    "    \"\"\"\n",
    "    #empty set for HM prediction\n",
    "    preds = []\n",
    "    for x in range(len(df)):\n",
    "        # If first two rows then predict false\n",
    "        if x <2:\n",
    "            preds.append(False)\n",
    "        else:\n",
    "            # If either of last two days == True then predict true\n",
    "            # x --> now\n",
    "            # x-1 --> yesterday \n",
    "            # x-2 --> two days ago \"The day before yesterday\"\n",
    "           # if df.iloc[(df[df[\"PRCP\"] >= 0.01])]:\n",
    "            if (df.iloc[x-1][\"RAIN\"] == True) | (df.iloc[1][\"RAIN\"] == True):\n",
    "                preds.append(True)\n",
    "            if df.loc[df.PRCP >0.01].iloc[:, 0:]:\n",
    "                 preds.append(True)\n",
    "            else:\n",
    "                # Predict false if the above is not true\n",
    "                preds.append(False)\n",
    "    return preds"
   ]
  },
  {
   "cell_type": "code",
   "execution_count": 60,
   "metadata": {},
   "outputs": [],
   "source": [
    "# Apply Heuristic\n",
    "df[\"preds\"] = heuristic(df )\n",
    "\n",
    "df.head()"
   ]
  },
  {
   "cell_type": "code",
   "execution_count": 27,
   "metadata": {},
   "outputs": [],
   "source": [
    "# Determine Accuracy\n",
    "\n",
    "# Create function to to find values\n",
    "\n",
    "def calc_confuse(df):\n",
    "    \n",
    "    \"Calculate all possible results of a confusion matrix\"\n",
    "    \n",
    "    # Initialzing the arrays to zero \n",
    "    # These arrays will be used to save the values\n",
    "    FP = np.zeros(len(df))\n",
    "    TP = np.zeros(len(df))\n",
    "    FN = np.zeros(len(df))\n",
    "    TN = np.zeros(len(df))\n",
    "    \n",
    "    for x in range(len(df)):\n",
    "        \n",
    "        # positive --> weather is raining \n",
    "        # negative --> weather is not raining \n",
    "        \n",
    "        # True Positive\n",
    "        if (df[\"RAIN\"].iloc[x] == True) & (df[\"preds\"].iloc[x] == True):\n",
    "            TP[x] = 1\n",
    "        # True Negative\n",
    "        elif (df[\"RAIN\"].iloc[x] == False) & (df[\"preds\"].iloc[x] == False):\n",
    "            TN[x] = 1\n",
    "        # False Negative --> wrong prediction , prediction = not happening\n",
    "        elif (df[\"RAIN\"].iloc[x] == True) & (df[\"preds\"].iloc[x] == False):\n",
    "            FN[x] = 1\n",
    "        # False Positive --> wrong prediction , prediction = happening\n",
    "        else:\n",
    "            FP[x] = 1\n",
    "    \n",
    "    return FP, TP, FN, TN"
   ]
  },
  {
   "cell_type": "code",
   "execution_count": 28,
   "metadata": {},
   "outputs": [
    {
     "data": {
      "text/html": [
       "<div>\n",
       "<style scoped>\n",
       "    .dataframe tbody tr th:only-of-type {\n",
       "        vertical-align: middle;\n",
       "    }\n",
       "\n",
       "    .dataframe tbody tr th {\n",
       "        vertical-align: top;\n",
       "    }\n",
       "\n",
       "    .dataframe thead th {\n",
       "        text-align: right;\n",
       "    }\n",
       "</style>\n",
       "<table border=\"1\" class=\"dataframe\">\n",
       "  <thead>\n",
       "    <tr style=\"text-align: right;\">\n",
       "      <th></th>\n",
       "      <th>DATE</th>\n",
       "      <th>PRCP</th>\n",
       "      <th>TMAX</th>\n",
       "      <th>TMIN</th>\n",
       "      <th>RAIN</th>\n",
       "      <th>preds</th>\n",
       "      <th>FP</th>\n",
       "      <th>TP</th>\n",
       "      <th>FN</th>\n",
       "      <th>TN</th>\n",
       "    </tr>\n",
       "  </thead>\n",
       "  <tbody>\n",
       "    <tr>\n",
       "      <th>9044</th>\n",
       "      <td>1972-10-05</td>\n",
       "      <td>0.00</td>\n",
       "      <td>60</td>\n",
       "      <td>43</td>\n",
       "      <td>0</td>\n",
       "      <td>True</td>\n",
       "      <td>1.0</td>\n",
       "      <td>0.0</td>\n",
       "      <td>0.0</td>\n",
       "      <td>0.0</td>\n",
       "    </tr>\n",
       "    <tr>\n",
       "      <th>17543</th>\n",
       "      <td>1996-01-12</td>\n",
       "      <td>0.00</td>\n",
       "      <td>51</td>\n",
       "      <td>33</td>\n",
       "      <td>0</td>\n",
       "      <td>True</td>\n",
       "      <td>1.0</td>\n",
       "      <td>0.0</td>\n",
       "      <td>0.0</td>\n",
       "      <td>0.0</td>\n",
       "    </tr>\n",
       "    <tr>\n",
       "      <th>22685</th>\n",
       "      <td>2010-02-09</td>\n",
       "      <td>0.00</td>\n",
       "      <td>46</td>\n",
       "      <td>36</td>\n",
       "      <td>0</td>\n",
       "      <td>True</td>\n",
       "      <td>1.0</td>\n",
       "      <td>0.0</td>\n",
       "      <td>0.0</td>\n",
       "      <td>0.0</td>\n",
       "    </tr>\n",
       "    <tr>\n",
       "      <th>20338</th>\n",
       "      <td>2003-09-07</td>\n",
       "      <td>0.22</td>\n",
       "      <td>68</td>\n",
       "      <td>55</td>\n",
       "      <td>1</td>\n",
       "      <td>True</td>\n",
       "      <td>0.0</td>\n",
       "      <td>1.0</td>\n",
       "      <td>0.0</td>\n",
       "      <td>0.0</td>\n",
       "    </tr>\n",
       "    <tr>\n",
       "      <th>12298</th>\n",
       "      <td>1981-09-02</td>\n",
       "      <td>0.00</td>\n",
       "      <td>70</td>\n",
       "      <td>53</td>\n",
       "      <td>0</td>\n",
       "      <td>True</td>\n",
       "      <td>1.0</td>\n",
       "      <td>0.0</td>\n",
       "      <td>0.0</td>\n",
       "      <td>0.0</td>\n",
       "    </tr>\n",
       "    <tr>\n",
       "      <th>21840</th>\n",
       "      <td>2007-10-18</td>\n",
       "      <td>0.23</td>\n",
       "      <td>60</td>\n",
       "      <td>45</td>\n",
       "      <td>1</td>\n",
       "      <td>True</td>\n",
       "      <td>0.0</td>\n",
       "      <td>1.0</td>\n",
       "      <td>0.0</td>\n",
       "      <td>0.0</td>\n",
       "    </tr>\n",
       "    <tr>\n",
       "      <th>21320</th>\n",
       "      <td>2006-05-16</td>\n",
       "      <td>0.00</td>\n",
       "      <td>83</td>\n",
       "      <td>59</td>\n",
       "      <td>0</td>\n",
       "      <td>True</td>\n",
       "      <td>1.0</td>\n",
       "      <td>0.0</td>\n",
       "      <td>0.0</td>\n",
       "      <td>0.0</td>\n",
       "    </tr>\n",
       "    <tr>\n",
       "      <th>20802</th>\n",
       "      <td>2004-12-14</td>\n",
       "      <td>0.12</td>\n",
       "      <td>53</td>\n",
       "      <td>47</td>\n",
       "      <td>1</td>\n",
       "      <td>True</td>\n",
       "      <td>0.0</td>\n",
       "      <td>1.0</td>\n",
       "      <td>0.0</td>\n",
       "      <td>0.0</td>\n",
       "    </tr>\n",
       "    <tr>\n",
       "      <th>21778</th>\n",
       "      <td>2007-08-17</td>\n",
       "      <td>0.00</td>\n",
       "      <td>76</td>\n",
       "      <td>55</td>\n",
       "      <td>0</td>\n",
       "      <td>True</td>\n",
       "      <td>1.0</td>\n",
       "      <td>0.0</td>\n",
       "      <td>0.0</td>\n",
       "      <td>0.0</td>\n",
       "    </tr>\n",
       "    <tr>\n",
       "      <th>2049</th>\n",
       "      <td>1953-08-11</td>\n",
       "      <td>0.00</td>\n",
       "      <td>81</td>\n",
       "      <td>53</td>\n",
       "      <td>0</td>\n",
       "      <td>True</td>\n",
       "      <td>1.0</td>\n",
       "      <td>0.0</td>\n",
       "      <td>0.0</td>\n",
       "      <td>0.0</td>\n",
       "    </tr>\n",
       "  </tbody>\n",
       "</table>\n",
       "</div>"
      ],
      "text/plain": [
       "             DATE  PRCP  TMAX  TMIN  RAIN  preds   FP   TP   FN   TN\n",
       "9044   1972-10-05  0.00    60    43     0   True  1.0  0.0  0.0  0.0\n",
       "17543  1996-01-12  0.00    51    33     0   True  1.0  0.0  0.0  0.0\n",
       "22685  2010-02-09  0.00    46    36     0   True  1.0  0.0  0.0  0.0\n",
       "20338  2003-09-07  0.22    68    55     1   True  0.0  1.0  0.0  0.0\n",
       "12298  1981-09-02  0.00    70    53     0   True  1.0  0.0  0.0  0.0\n",
       "21840  2007-10-18  0.23    60    45     1   True  0.0  1.0  0.0  0.0\n",
       "21320  2006-05-16  0.00    83    59     0   True  1.0  0.0  0.0  0.0\n",
       "20802  2004-12-14  0.12    53    47     1   True  0.0  1.0  0.0  0.0\n",
       "21778  2007-08-17  0.00    76    55     0   True  1.0  0.0  0.0  0.0\n",
       "2049   1953-08-11  0.00    81    53     0   True  1.0  0.0  0.0  0.0"
      ]
     },
     "execution_count": 28,
     "metadata": {},
     "output_type": "execute_result"
    }
   ],
   "source": [
    "# Extract results and create columns for each\n",
    "w,x,y,z = calc_confuse(df)\n",
    "\n",
    "df[\"FP\"] = w\n",
    "df[\"TP\"] = x\n",
    "df[\"FN\"] = y\n",
    "df[\"TN\"] = z\n",
    "\n",
    "# Look at 10 random rows to determin accuracy\n",
    "df.sample(10)"
   ]
  },
  {
   "cell_type": "code",
   "execution_count": 29,
   "metadata": {},
   "outputs": [
    {
     "data": {
      "text/plain": [
       "0.42651950999960864"
      ]
     },
     "execution_count": 29,
     "metadata": {},
     "output_type": "execute_result"
    }
   ],
   "source": [
    "# Calculate Accuracy\n",
    "(sum(df[\"TP\"]) + sum(df[\"TN\"])) / len(df)"
   ]
  },
  {
   "cell_type": "code",
   "execution_count": 30,
   "metadata": {},
   "outputs": [
    {
     "data": {
      "text/plain": [
       "0    0.573402\n",
       "1    0.426598\n",
       "Name: RAIN, dtype: float64"
      ]
     },
     "execution_count": 30,
     "metadata": {},
     "output_type": "execute_result"
    }
   ],
   "source": [
    "# Baseline Model Prediction\n",
    "\n",
    "# What would be our accuracy if we predicted the majority class\n",
    "\n",
    "df[\"RAIN\"].value_counts(normalize=True)"
   ]
  },
  {
   "cell_type": "markdown",
   "metadata": {},
   "source": [
    "### Important Note: our heuristic is not good since we cannot predict better than guessing the majority class every time.\n",
    "\n",
    "### How could we further improve our model?\n"
   ]
  },
  {
   "cell_type": "code",
   "execution_count": 31,
   "metadata": {},
   "outputs": [
    {
     "data": {
      "text/plain": [
       "<AxesSubplot:xlabel='RAIN', ylabel='count'>"
      ]
     },
     "execution_count": 31,
     "metadata": {},
     "output_type": "execute_result"
    },
    {
     "data": {
      "image/png": "[encoded data removed]",
      "text/plain": [
       "<Figure size 432x288 with 1 Axes>"
      ]
     },
     "metadata": {
      "needs_background": "light"
     },
     "output_type": "display_data"
    }
   ],
   "source": [
    "# Look at our target class distribution\n",
    "sns.countplot(data=df, x='RAIN')"
   ]
  },
  {
   "cell_type": "code",
   "execution_count": 32,
   "metadata": {},
   "outputs": [
    {
     "data": {
      "text/plain": [
       "0    14651\n",
       "1    10900\n",
       "Name: RAIN, dtype: int64"
      ]
     },
     "execution_count": 32,
     "metadata": {},
     "output_type": "execute_result"
    }
   ],
   "source": [
    "# Note: that the true and false in the rain is of type boolean NOT string\n",
    "\n",
    "df['RAIN'].value_counts()"
   ]
  },
  {
   "cell_type": "code",
   "execution_count": 33,
   "metadata": {},
   "outputs": [
    {
     "data": {
      "text/plain": [
       "(array([   9.,   13.,   45.,  215., 1345., 3049., 3226., 1994.,  938.,\n",
       "          66.]),\n",
       " array([ 6. , 11.9, 17.8, 23.7, 29.6, 35.5, 41.4, 47.3, 53.2, 59.1, 65. ]),\n",
       " <BarContainer object of 10 artists>)"
      ]
     },
     "execution_count": 33,
     "metadata": {},
     "output_type": "execute_result"
    },
    {
     "data": {
      "image/png": "[encoded data removed]",
      "text/plain": [
       "<Figure size 432x288 with 1 Axes>"
      ]
     },
     "metadata": {
      "needs_background": "light"
     },
     "output_type": "display_data"
    }
   ],
   "source": [
    "# Filter DataFrame for days that had rain \n",
    "\n",
    "condition = df[\"RAIN\"] == True\n",
    "df_rain = df[condition]\n",
    "\n",
    "# sns.countplot(data=df_rain, x='TMIN')\n",
    "\n",
    "plt.hist(df_rain['TMIN'], bins=10)"
   ]
  },
  {
   "cell_type": "code",
   "execution_count": 34,
   "metadata": {
    "scrolled": true
   },
   "outputs": [
    {
     "data": {
      "text/plain": [
       "(array([7.469e+03, 1.953e+03, 7.840e+02, 3.520e+02, 1.540e+02, 8.900e+01,\n",
       "        5.100e+01, 1.600e+01, 1.300e+01, 3.000e+00, 5.000e+00, 5.000e+00,\n",
       "        2.000e+00, 2.000e+00, 0.000e+00, 1.000e+00, 0.000e+00, 0.000e+00,\n",
       "        0.000e+00, 1.000e+00]),\n",
       " array([0.01  , 0.2605, 0.511 , 0.7615, 1.012 , 1.2625, 1.513 , 1.7635,\n",
       "        2.014 , 2.2645, 2.515 , 2.7655, 3.016 , 3.2665, 3.517 , 3.7675,\n",
       "        4.018 , 4.2685, 4.519 , 4.7695, 5.02  ]),\n",
       " <BarContainer object of 20 artists>)"
      ]
     },
     "execution_count": 34,
     "metadata": {},
     "output_type": "execute_result"
    },
    {
     "data": {
      "image/png": "[encoded data removed]",
      "text/plain": [
       "<Figure size 432x288 with 1 Axes>"
      ]
     },
     "metadata": {
      "needs_background": "light"
     },
     "output_type": "display_data"
    }
   ],
   "source": [
    "condition = df[\"RAIN\"] == True\n",
    "df_rain = df[condition]\n",
    "\n",
    "plt.hist(df_rain['PRCP'], bins=20)"
   ]
  },
  {
   "cell_type": "code",
   "execution_count": 35,
   "metadata": {},
   "outputs": [
    {
     "data": {
      "text/plain": [
       "(array([1.4648e+04, 0.0000e+00, 0.0000e+00, 0.0000e+00, 0.0000e+00,\n",
       "        0.0000e+00, 0.0000e+00, 0.0000e+00, 0.0000e+00, 0.0000e+00,\n",
       "        0.0000e+00, 0.0000e+00, 0.0000e+00, 0.0000e+00, 0.0000e+00,\n",
       "        0.0000e+00, 0.0000e+00, 0.0000e+00, 0.0000e+00, 3.0000e+00]),\n",
       " array([0.        , 0.00531108, 0.01062216, 0.01593324, 0.02124432,\n",
       "        0.02655541, 0.03186649, 0.03717757, 0.04248865, 0.04779973,\n",
       "        0.05311081, 0.05842189, 0.06373297, 0.06904405, 0.07435514,\n",
       "        0.07966622, 0.0849773 , 0.09028838, 0.09559946, 0.10091054,\n",
       "        0.10622162]),\n",
       " <BarContainer object of 20 artists>)"
      ]
     },
     "execution_count": 35,
     "metadata": {},
     "output_type": "execute_result"
    },
    {
     "data": {
      "image/png": "[encoded data removed]",
      "text/plain": [
       "<Figure size 432x288 with 1 Axes>"
      ]
     },
     "metadata": {
      "needs_background": "light"
     },
     "output_type": "display_data"
    }
   ],
   "source": [
    "condition = df[\"RAIN\"] == False\n",
    "df_not_rain = df[condition]\n",
    "\n",
    "plt.hist(df_not_rain['PRCP'], bins=20)"
   ]
  },
  {
   "cell_type": "code",
   "execution_count": 36,
   "metadata": {},
   "outputs": [],
   "source": [
    "# Create function to perform our heuristic\n",
    "\n",
    "def heuristic_temp(df):\n",
    "    \n",
    "    \"\"\"\n",
    "    Simple heuristic:\n",
    "    \n",
    "    It will rain if the temperature is between 35 and 55\n",
    "    \n",
    "    Frist two rows are predicted false be default\n",
    "    \"\"\"\n",
    "    \n",
    "    preds = []\n",
    "    for x in range(len(df)):\n",
    "        # If first two rows then predict false\n",
    "        if x <2:\n",
    "            preds.append(False)\n",
    "        else:\n",
    "            # If either of last two days == True then predict true\n",
    "            if (df.iloc[x][\"TMIN\"] > 35) & (df.iloc[x][\"TMIN\"] < 55):\n",
    "                preds.append(True)\n",
    "            else:\n",
    "                # Predict false if the above is not true\n",
    "                preds.append(False)\n",
    "    return preds\n",
    "\n",
    "\n",
    "def calc_confuse(df):\n",
    "    \n",
    "    \"Calculate all possible results of a confusion matrix\"\n",
    "\n",
    "    # Hold all possible values and set to zero\n",
    "    FP = np.zeros(len(df))\n",
    "    TP = np.zeros(len(df))\n",
    "    FN = np.zeros(len(df))\n",
    "    TN = np.zeros(len(df))\n",
    "    \n",
    "    for x in range(len(df)):\n",
    "        \n",
    "        # True Positive\n",
    "        if (df[\"RAIN\"].iloc[x] == True) & (df[\"preds\"].iloc[x] == True):\n",
    "            TP[x] = 1\n",
    "        # True Negative\n",
    "        elif (df[\"RAIN\"].iloc[x] == False) & (df[\"preds\"].iloc[x] == False):\n",
    "            TN[x] = 1\n",
    "        # False Negative\n",
    "        elif (df[\"RAIN\"].iloc[x] == True) & (df[\"preds\"].iloc[x] == False):\n",
    "            FN[x] = 1\n",
    "        # False Positive\n",
    "        else:\n",
    "            FP[x] = 1\n",
    "    \n",
    "    return FP, TP, FN, TN"
   ]
  },
  {
   "cell_type": "code",
   "execution_count": 37,
   "metadata": {},
   "outputs": [
    {
     "data": {
      "text/html": [
       "<div>\n",
       "<style scoped>\n",
       "    .dataframe tbody tr th:only-of-type {\n",
       "        vertical-align: middle;\n",
       "    }\n",
       "\n",
       "    .dataframe tbody tr th {\n",
       "        vertical-align: top;\n",
       "    }\n",
       "\n",
       "    .dataframe thead th {\n",
       "        text-align: right;\n",
       "    }\n",
       "</style>\n",
       "<table border=\"1\" class=\"dataframe\">\n",
       "  <thead>\n",
       "    <tr style=\"text-align: right;\">\n",
       "      <th></th>\n",
       "      <th>DATE</th>\n",
       "      <th>PRCP</th>\n",
       "      <th>TMAX</th>\n",
       "      <th>TMIN</th>\n",
       "      <th>RAIN</th>\n",
       "      <th>preds</th>\n",
       "      <th>FP</th>\n",
       "      <th>TP</th>\n",
       "      <th>FN</th>\n",
       "      <th>TN</th>\n",
       "    </tr>\n",
       "  </thead>\n",
       "  <tbody>\n",
       "    <tr>\n",
       "      <th>4674</th>\n",
       "      <td>1960-10-18</td>\n",
       "      <td>0.00</td>\n",
       "      <td>65</td>\n",
       "      <td>44</td>\n",
       "      <td>0</td>\n",
       "      <td>True</td>\n",
       "      <td>1.0</td>\n",
       "      <td>0.0</td>\n",
       "      <td>0.0</td>\n",
       "      <td>0.0</td>\n",
       "    </tr>\n",
       "    <tr>\n",
       "      <th>24207</th>\n",
       "      <td>2014-04-11</td>\n",
       "      <td>0.00</td>\n",
       "      <td>63</td>\n",
       "      <td>41</td>\n",
       "      <td>0</td>\n",
       "      <td>True</td>\n",
       "      <td>1.0</td>\n",
       "      <td>0.0</td>\n",
       "      <td>0.0</td>\n",
       "      <td>0.0</td>\n",
       "    </tr>\n",
       "    <tr>\n",
       "      <th>14214</th>\n",
       "      <td>1986-12-01</td>\n",
       "      <td>0.05</td>\n",
       "      <td>48</td>\n",
       "      <td>35</td>\n",
       "      <td>1</td>\n",
       "      <td>False</td>\n",
       "      <td>0.0</td>\n",
       "      <td>0.0</td>\n",
       "      <td>1.0</td>\n",
       "      <td>0.0</td>\n",
       "    </tr>\n",
       "    <tr>\n",
       "      <th>780</th>\n",
       "      <td>1950-02-19</td>\n",
       "      <td>0.00</td>\n",
       "      <td>46</td>\n",
       "      <td>34</td>\n",
       "      <td>0</td>\n",
       "      <td>False</td>\n",
       "      <td>0.0</td>\n",
       "      <td>0.0</td>\n",
       "      <td>0.0</td>\n",
       "      <td>1.0</td>\n",
       "    </tr>\n",
       "    <tr>\n",
       "      <th>19171</th>\n",
       "      <td>2000-06-27</td>\n",
       "      <td>0.00</td>\n",
       "      <td>88</td>\n",
       "      <td>58</td>\n",
       "      <td>0</td>\n",
       "      <td>False</td>\n",
       "      <td>0.0</td>\n",
       "      <td>0.0</td>\n",
       "      <td>0.0</td>\n",
       "      <td>1.0</td>\n",
       "    </tr>\n",
       "    <tr>\n",
       "      <th>16622</th>\n",
       "      <td>1993-07-05</td>\n",
       "      <td>0.00</td>\n",
       "      <td>68</td>\n",
       "      <td>54</td>\n",
       "      <td>0</td>\n",
       "      <td>True</td>\n",
       "      <td>1.0</td>\n",
       "      <td>0.0</td>\n",
       "      <td>0.0</td>\n",
       "      <td>0.0</td>\n",
       "    </tr>\n",
       "    <tr>\n",
       "      <th>9016</th>\n",
       "      <td>1972-09-07</td>\n",
       "      <td>0.01</td>\n",
       "      <td>65</td>\n",
       "      <td>55</td>\n",
       "      <td>1</td>\n",
       "      <td>False</td>\n",
       "      <td>0.0</td>\n",
       "      <td>0.0</td>\n",
       "      <td>1.0</td>\n",
       "      <td>0.0</td>\n",
       "    </tr>\n",
       "    <tr>\n",
       "      <th>20927</th>\n",
       "      <td>2005-04-18</td>\n",
       "      <td>0.01</td>\n",
       "      <td>57</td>\n",
       "      <td>43</td>\n",
       "      <td>1</td>\n",
       "      <td>True</td>\n",
       "      <td>0.0</td>\n",
       "      <td>1.0</td>\n",
       "      <td>0.0</td>\n",
       "      <td>0.0</td>\n",
       "    </tr>\n",
       "    <tr>\n",
       "      <th>2573</th>\n",
       "      <td>1955-01-17</td>\n",
       "      <td>0.08</td>\n",
       "      <td>44</td>\n",
       "      <td>35</td>\n",
       "      <td>1</td>\n",
       "      <td>False</td>\n",
       "      <td>0.0</td>\n",
       "      <td>0.0</td>\n",
       "      <td>1.0</td>\n",
       "      <td>0.0</td>\n",
       "    </tr>\n",
       "    <tr>\n",
       "      <th>23551</th>\n",
       "      <td>2012-06-24</td>\n",
       "      <td>0.00</td>\n",
       "      <td>67</td>\n",
       "      <td>49</td>\n",
       "      <td>0</td>\n",
       "      <td>True</td>\n",
       "      <td>1.0</td>\n",
       "      <td>0.0</td>\n",
       "      <td>0.0</td>\n",
       "      <td>0.0</td>\n",
       "    </tr>\n",
       "  </tbody>\n",
       "</table>\n",
       "</div>"
      ],
      "text/plain": [
       "             DATE  PRCP  TMAX  TMIN  RAIN  preds   FP   TP   FN   TN\n",
       "4674   1960-10-18  0.00    65    44     0   True  1.0  0.0  0.0  0.0\n",
       "24207  2014-04-11  0.00    63    41     0   True  1.0  0.0  0.0  0.0\n",
       "14214  1986-12-01  0.05    48    35     1  False  0.0  0.0  1.0  0.0\n",
       "780    1950-02-19  0.00    46    34     0  False  0.0  0.0  0.0  1.0\n",
       "19171  2000-06-27  0.00    88    58     0  False  0.0  0.0  0.0  1.0\n",
       "16622  1993-07-05  0.00    68    54     0   True  1.0  0.0  0.0  0.0\n",
       "9016   1972-09-07  0.01    65    55     1  False  0.0  0.0  1.0  0.0\n",
       "20927  2005-04-18  0.01    57    43     1   True  0.0  1.0  0.0  0.0\n",
       "2573   1955-01-17  0.08    44    35     1  False  0.0  0.0  1.0  0.0\n",
       "23551  2012-06-24  0.00    67    49     0   True  1.0  0.0  0.0  0.0"
      ]
     },
     "execution_count": 37,
     "metadata": {},
     "output_type": "execute_result"
    }
   ],
   "source": [
    "# Create a copy of the dataframe\n",
    "\n",
    "df_temp = df.copy()\n",
    "\n",
    "df_temp[\"preds\"] = heuristic_temp(df_temp) # Create a column of predictions\n",
    "\n",
    "confuse_ls = [w,x,y,z] = calc_confuse(df_temp) # Calculate confusion matrix stats\n",
    "col_names = [\"FP\", \"TP\", \"FN\", \"TN\"] # Create column name ls\n",
    "\n",
    "# Create new columns\n",
    "for x in range(len(confuse_ls)):\n",
    "    df_temp[col_names[x]] = confuse_ls[x]\n",
    "\n",
    "# Look at 10 random rows to determine the accuracy\n",
    "df_temp.sample(10)"
   ]
  },
  {
   "cell_type": "code",
   "execution_count": 38,
   "metadata": {},
   "outputs": [
    {
     "data": {
      "text/plain": [
       "0.5448319048178154"
      ]
     },
     "execution_count": 38,
     "metadata": {},
     "output_type": "execute_result"
    }
   ],
   "source": [
    "# Calculate Accuracy\n",
    "\n",
    "(sum(df_temp[\"TP\"]) + sum(df_temp[\"TN\"])) / len(df_temp)\n",
    "\n"
   ]
  },
  {
   "cell_type": "code",
   "execution_count": 39,
   "metadata": {},
   "outputs": [
    {
     "data": {
      "text/plain": [
       "0.7804587155963303"
      ]
     },
     "execution_count": 39,
     "metadata": {},
     "output_type": "execute_result"
    }
   ],
   "source": [
    "# Calculate Precision \n",
    "\n",
    "sum(df_temp[\"TP\"])/ (sum(df_temp[\"TP\"]) + sum(df_temp[\"FN\"]))\n",
    "    "
   ]
  },
  {
   "cell_type": "code",
   "execution_count": 40,
   "metadata": {},
   "outputs": [
    {
     "data": {
      "text/plain": [
       "0.4794296663660956"
      ]
     },
     "execution_count": 40,
     "metadata": {},
     "output_type": "execute_result"
    }
   ],
   "source": [
    "# Calculate Recall\n",
    "\n",
    "sum(df_temp[\"TP\"])/ (sum(df_temp[\"TP\"]) + sum(df_temp[\"FP\"]))\n",
    "    "
   ]
  },
  {
   "cell_type": "markdown",
   "metadata": {},
   "source": [
    "# Cost (Loss) Functions\n",
    "- [Mean Squared Error](https://en.wikipedia.org/wiki/Mean_squared_error)\n",
    "- [Mean Absolute Error](https://en.wikipedia.org/wiki/Mean_absolute_error)\n",
    "- [Root Mean Squared Error](https://en.wikipedia.org/wiki/Root-mean-square_deviation)\n",
    "- [Residual Sum of Squares](https://en.wikipedia.org/wiki/Residual_sum_of_squares)\n",
    "- [Precision, Recall, Accuracy](https://en.wikipedia.org/wiki/Precision_and_recall)\n",
    "- [Confusion Matrix](https://en.wikipedia.org/wiki/Confusion_matrix)\n",
    "- [Gradient Descent](https://ml-cheatsheet.readthedocs.io/en/latest/gradient_descent.html)\n",
    "\n",
    "#### Some Videos\n",
    "- [Loss Functions Explained](https://www.youtube.com/watch?v=IVVVjBSk9N0)\n",
    "- [Loss Functions - EXPLAINED!](https://www.youtube.com/watch?v=QBbC3Cjsnjg)\n",
    "- [Machine learning fundamentals (I): Cost functions and gradient descent](https://towardsdatascience.com/machine-learning-fundamentals-via-linear-regression-41a5d11f5220) (not a video)\n",
    "\n",
    "#### Note: Supervised vs Unsupervised ML\n",
    "> **Supervised learning**: Models that can predict labels based on labeled training data\n",
    "> - Classification: Models that predict labels as two or more discrete categories\n",
    "> - Regression: Models that predict continuous labels\n",
    "\n",
    "> **Unsupervised learning**: Models that identify structure in unlabeled data\n",
    "> - Clustering: Models that detect and identify distinct groups in the data\n",
    "> - Dimensionality reduction: Models that detect and identify lower-dimensional structure in higher-dimensional data\n",
    "\n",
    "> Source: [What is Machine Learning?](https://jakevdp.github.io/PythonDataScienceHandbook/05.01-what-is-machine-learning.html)\n",
    " though?"
   ]
  },
  {
   "cell_type": "markdown",
   "metadata": {},
   "source": [
    "---\n",
    "\n",
    "## Regression Cost Functions\n",
    "\n"
   ]
  },
  {
   "cell_type": "markdown",
   "metadata": {},
   "source": [
    "#### Mean Error\n",
    "\n",
    "- In this cost function, the error for each training data is calculated and then the mean value of all these errors is derived.\n",
    "- Calculating the mean of the errors is the simplest and most intuitive way possible.\n",
    "- The errors can be both negative and positive. So they can cancel each other out during summation giving zero mean error for the model.\n",
    "- Thus this is not a recommended cost function but it does lay the foundation for other cost functions of regression models."
   ]
  },
  {
   "cell_type": "markdown",
   "metadata": {},
   "source": [
    "#### Mean Squared Error\n",
    "[Reference](https://en.wikipedia.org/wiki/Mean_squared_error)\n",
    "\n",
    "![](https://www.gstatic.com/education/formulas2/355397047/en/mean_squared_error.svg)\n",
    "\n",
    "- Here a square of the difference between the actual and predicted value is calculated to avoid any possibility of negative error.\n",
    "- It measures the average of the sum of squared differences between predictions and actual observations.\n",
    "- Also known as L2 loss.\n",
    "- In MSE, since each error is squared, it helps to penalize even small deviations in prediction when compared to MAE. But if our dataset has outliers that contribute to larger prediction errors, then squaring this error further will magnify the error many times more and also lead to higher MSE error.\n",
    "- Less robust to outliers"
   ]
  },
  {
   "cell_type": "code",
   "execution_count": 41,
   "metadata": {},
   "outputs": [],
   "source": [
    "preds = np.array([10, 9, 10, 9, 10, 9, 10, 9, 10])"
   ]
  },
  {
   "cell_type": "code",
   "execution_count": 42,
   "metadata": {},
   "outputs": [],
   "source": [
    "labels = np.array([10, 9, 10, 2, 3, 5, 7, 19, 21])"
   ]
  },
  {
   "cell_type": "code",
   "execution_count": 43,
   "metadata": {},
   "outputs": [
    {
     "data": {
      "text/plain": [
       "38.22222222222222"
      ]
     },
     "execution_count": 43,
     "metadata": {},
     "output_type": "execute_result"
    }
   ],
   "source": [
    "mean_squared_error(preds, labels)"
   ]
  },
  {
   "cell_type": "markdown",
   "metadata": {},
   "source": [
    "#### Mean Absolute Error\n",
    "[Reference](https://en.wikipedia.org/wiki/Mean_absolute_error)\n",
    "\n",
    "![](https://www.gstatic.com/education/formulas2/355397047/en/mean_absolute_error.svg)\n",
    "\n",
    "- MAE addresses the shortcoming of mean error differently. Here an absolute difference between the actual and predicted value is calculated to avoid any possibility of negative error.\n",
    "- MAE is measured as the average of the sum of absolute differences between predictions and actual observations.\n",
    "- Also known as L1 Loss.\n",
    "- It is robust to outliers thus it will give better results even when our dataset has noise or outliers.\n",
    "- Give the same importance to all errors"
   ]
  },
  {
   "cell_type": "code",
   "execution_count": 44,
   "metadata": {},
   "outputs": [
    {
     "data": {
      "text/plain": [
       "4.666666666666667"
      ]
     },
     "execution_count": 44,
     "metadata": {},
     "output_type": "execute_result"
    }
   ],
   "source": [
    "mean_absolute_error(preds, labels)"
   ]
  },
  {
   "cell_type": "markdown",
   "metadata": {},
   "source": [
    "#### Root Mean Squared Deviation\n",
    "\n",
    "[Reference](https://en.wikipedia.org/wiki/Root-mean-square_deviation#:~:text=The%20root%2Dmean%2Dsquare%20deviation,estimator%20and%20the%20values%20observed.&text=RMSD%20is%20the%20square%20root%20of%20the%20average%20of%20squared%20errors.)\n",
    "\n",
    "![](https://www.gstatic.com/education/formulas2/355397047/en/root_mean_square_deviation.svg)\n",
    "\n",
    "- Defined as the square root of the average squared error.\n",
    "- RMSE does not treat each error the same.\n",
    "- Gives more importance to the most significant errors.\n",
    "- One big error is enough to get a very bad RMSE.\n",
    "- Sensitive to outliers."
   ]
  },
  {
   "cell_type": "markdown",
   "metadata": {},
   "source": [
    "#### Note: sklearn.metrics has a mean_squared_error function with a squared kwarg (defaults to True). Setting squared to False will return the RMSE.\n",
    "\n"
   ]
  },
  {
   "cell_type": "code",
   "execution_count": 45,
   "metadata": {},
   "outputs": [
    {
     "data": {
      "text/plain": [
       "6.182412330330469"
      ]
     },
     "execution_count": 45,
     "metadata": {},
     "output_type": "execute_result"
    }
   ],
   "source": [
    "mean_squared_error(preds, labels, squared=False)"
   ]
  },
  {
   "cell_type": "markdown",
   "metadata": {},
   "source": [
    "#### Residual Sum of Squared Error\n",
    "[Reference](https://en.wikipedia.org/wiki/Residual_sum_of_squares)\n",
    "\n",
    "![](https://www.gstatic.com/education/formulas2/355397047/en/residual_sum_of_squares.svg)\n",
    "\n",
    "- Measures the overall difference between your data and the values predicted by your estimation model (a “residual” is a measure of the distance from a data point to a regression line).\n",
    "- Tells you how much of the dependent variable’s variation your model did not explain.\n",
    "- It is the sum of the squared differences between the actual Y and the predicted Y\n",
    "- The smaller the residual sum of squares, the better your model fits your data\n",
    "- The greater the residual sum of squares, the poorer your model fits your data.\n",
    "- One major use is in finding the coefficient of determination (R2). The coefficient of determination is a ratio of the explained sum of squares to the total sum of squares."
   ]
  },
  {
   "cell_type": "markdown",
   "metadata": {},
   "source": [
    "---\n",
    "\n",
    "## Classification\n",
    "\n",
    "precision \n",
    "- is the fraction of relevant instances among the retrieved instances\n",
    "-(also called positive predictive value)\n",
    "\n",
    "![image.png](data:image/png;base64,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)\n",
    "\n",
    "recall \n",
    "- is the fraction of relevant instances that were retrieved.\n",
    "- (also known as sensitivity) \n",
    "\n",
    "Both precision and recall are therefore based on relevance.\n",
    "\n",
    "![image.png](data:image/png;base64,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)\n",
    "\n",
    "\n"
   ]
  },
  {
   "cell_type": "code",
   "execution_count": null,
   "metadata": {},
   "outputs": [],
   "source": []
  }
 ],
 "metadata": {
  "kernelspec": {
   "display_name": "Python 3 (ipykernel)",
   "language": "python",
   "name": "python3"
  },
  "language_info": {
   "codemirror_mode": {
    "name": "ipython",
    "version": 3
   },
   "file_extension": ".py",
   "mimetype": "text/x-python",
   "name": "python",
   "nbconvert_exporter": "python",
   "pygments_lexer": "ipython3",
   "version": "3.9.12"
  }
 },
 "nbformat": 4,
 "nbformat_minor": 4
}
